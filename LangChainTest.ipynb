{
 "cells": [
  {
   "cell_type": "code",
   "execution_count": 1,
   "id": "2f65c5ac",
   "metadata": {},
   "outputs": [],
   "source": [
    "import openai\n",
    "import os\n",
    "\n",
    "from dotenv import load_dotenv, find_dotenv\n",
    "_ = load_dotenv(find_dotenv())\n",
    "openai.api_key = os.environ['OPENAI_API_KEY']"
   ]
  },
  {
   "cell_type": "code",
   "execution_count": 2,
   "id": "bcd64755",
   "metadata": {},
   "outputs": [],
   "source": [
    "from openai import OpenAI"
   ]
  },
  {
   "cell_type": "code",
   "execution_count": 3,
   "id": "46e293c8",
   "metadata": {},
   "outputs": [],
   "source": [
    "client = OpenAI()\n",
    "\n",
    "def get_completion(prompt, model=\"gpt-3.5-turbo\"):\n",
    "    temp = \"\"\"The sentence I give you will be in Russian.\n",
    "    For each word in the following sentence please tell me in English to which wordclass the word belongs to.\n",
    "    Sentence: \"\"\" + prompt \n",
    "    messages = [{\"role\": \"user\", \"content\": temp}]\n",
    "    response = client.chat.completions.create(\n",
    "        model=model, \n",
    "        messages=messages,\n",
    "        temperature=0,\n",
    "    )\n",
    "    return response.choices[0].message\n",
    "\n",
    "\n",
    "\n"
   ]
  },
  {
   "cell_type": "code",
   "execution_count": 4,
   "id": "a73125db",
   "metadata": {},
   "outputs": [
    {
     "data": {
      "text/plain": [
       "ChatCompletionMessage(content='1. Кто - pronoun (who)\\n2. твоя - possessive pronoun (your)\\n3. мама - noun (mother)', role='assistant', function_call=None, tool_calls=None)"
      ]
     },
     "execution_count": 4,
     "metadata": {},
     "output_type": "execute_result"
    }
   ],
   "source": [
    "get_completion(\"Кто твоя мама?\")"
   ]
  },
  {
   "cell_type": "code",
   "execution_count": 15,
   "id": "30b7e4f1",
   "metadata": {},
   "outputs": [],
   "source": [
    "def get_completion_(prompt, model=\"gpt-3.5-turbo\"):\n",
    "    temp = \"\"\"In which case is the last word of the following sentence, and why is it in that case? \"\"\" + prompt \n",
    "    messages = [{\"role\": \"user\", \"content\": temp}]\n",
    "    response = client.chat.completions.create(\n",
    "        model=model, \n",
    "        messages=messages,\n",
    "        temperature=0,\n",
    "    )\n",
    "    return response.choices[0].message"
   ]
  },
  {
   "cell_type": "code",
   "execution_count": 16,
   "id": "cf2bbff2",
   "metadata": {},
   "outputs": [
    {
     "data": {
      "text/plain": [
       "ChatCompletionMessage(content='The last word of the sentence is \"мама\" and it is in the nominative case. In this sentence, \"мама\" is the subject of the question, so it remains in the nominative case.', role='assistant', function_call=None, tool_calls=None)"
      ]
     },
     "execution_count": 16,
     "metadata": {},
     "output_type": "execute_result"
    }
   ],
   "source": [
    "get_completion_(\"Кто твоя мама?\")"
   ]
  },
  {
   "cell_type": "code",
   "execution_count": null,
   "id": "a33003cf",
   "metadata": {},
   "outputs": [],
   "source": []
  }
 ],
 "metadata": {
  "kernelspec": {
   "display_name": "Python 3 (ipykernel)",
   "language": "python",
   "name": "python3"
  },
  "language_info": {
   "codemirror_mode": {
    "name": "ipython",
    "version": 3
   },
   "file_extension": ".py",
   "mimetype": "text/x-python",
   "name": "python",
   "nbconvert_exporter": "python",
   "pygments_lexer": "ipython3",
   "version": "3.8.9"
  }
 },
 "nbformat": 4,
 "nbformat_minor": 5
}
